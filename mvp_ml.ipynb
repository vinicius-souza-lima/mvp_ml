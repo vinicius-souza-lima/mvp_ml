{
 "cells": [
  {
   "cell_type": "markdown",
   "id": "90a6e443",
   "metadata": {},
   "source": [
    "---\n",
    "title: MVP Machine Learning\n",
    "jupyter:\n",
    "  jupytext:\n",
    "    text_representation:\n",
    "      extension: .qmd\n",
    "      format_name: quarto\n",
    "      format_version: '1.0'\n",
    "      jupytext_version: 1.16.4\n",
    "  kernelspec:\n",
    "    display_name: ml\n",
    "    language: python\n",
    "    name: python3\n",
    "format:\n",
    "  html:\n",
    "    embed-resources: true\n",
    "---\n",
    "\n",
    "<a target=\"_blank\" href=\"https://colab.research.google.com/github/vinicius-souza-lima/mvp_ml/blob/main/mvp_ml.ipynb\"> <img src=\"https://colab.research.google.com/assets/colab-badge.svg\" alt=\"Open In Colab\"/> </a>"
   ]
  },
  {
   "cell_type": "code",
   "execution_count": null,
   "id": "fecacd74",
   "metadata": {},
   "outputs": [],
   "source": [
    "from pathlib import Path\n",
    "import urllib.request\n",
    "import pandas as pd\n",
    "import matplotlib.pyplot as plt\n",
    "import numpy as np\n",
    "from PIL import Image\n",
    "from sklearn.model_selection import train_test_split, cross_val_predict\n",
    "from sklearn.linear_model import LogisticRegression\n",
    "from sklearn.metrics import confusion_matrix,precision_score,recall_score,f1_score\n",
    "import joblib"
   ]
  },
  {
   "cell_type": "markdown",
   "id": "2872a3f0",
   "metadata": {},
   "source": [
    "## Problema de Regressão"
   ]
  },
  {
   "cell_type": "code",
   "execution_count": null,
   "id": "48e14b9a",
   "metadata": {},
   "outputs": [],
   "source": [
    "def load_data(file : str,url : str,**kwargs):\n",
    "    \"\"\"\n",
    "    Função para carregar os dados, verifica se dataset já foi baixado, baixando-o de acordo\n",
    "    com a necessidade\n",
    "    \"\"\"\n",
    "    file_path = Path(file)\n",
    "    if not file_path.is_file():\n",
    "        Path(\"datasets\").mkdir(parents=True, exist_ok=True)\n",
    "        if url is None:\n",
    "            raise ValueError(\"Url não informada\")\n",
    "        urllib.request.urlretrieve(url,file_path)\n",
    "    return pd.read_csv(file,**kwargs)"
   ]
  },
  {
   "cell_type": "code",
   "execution_count": null,
   "id": "79757225",
   "metadata": {},
   "outputs": [],
   "source": [
    "import numpy as np\n",
    "import matplotlib.pyplot as plt\n",
    "a = np.linspace(1.,1000.0,num=100)\n",
    "plt.plot(a)\n",
    "plt.show()"
   ]
  },
  {
   "cell_type": "markdown",
   "id": "281cf32b",
   "metadata": {},
   "source": [
    "## Problema de Classificação (Algoritmos Clássicos)\n",
    "\n",
    "### Criação do Dataset simplificado a partir das imagens\n",
    "\n",
    "Objetivo: Classificar imagem de raio x de paciente em saudável, pneumonia bacteriana ou pneumonia virótica"
   ]
  },
  {
   "cell_type": "code",
   "execution_count": null,
   "id": "aa7ddea3",
   "metadata": {},
   "outputs": [],
   "source": [
    "def convert_toarray(path_dir:str,target_values:list[str],fallback:str|None=None,\n",
    "                resolution: tuple[int,int]=(128,128)):\n",
    "    dir = Path(path_dir)\n",
    "    files = dir.glob(\"*\")\n",
    "    imgs = []\n",
    "    targets = []\n",
    "    for f in files:\n",
    "        imgs.append(np.array(Image.open(str(f)) # Lê a imagem\n",
    "                                  .convert(\"L\")  # Converte para escala de cinza\n",
    "                                  .resize(resolution,Image.Resampling.LANCZOS)) # Redimensiona a imagem\n",
    "                                  .flatten()) # Formata a matriz como array \n",
    "        targets.append(next((cat for cat in f.name.split(\"_\")\n",
    "                             if cat in target_values),fallback)) # procura categoria no nome do arquivo\n",
    "\n",
    "    return np.stack(imgs),np.array(targets)"
   ]
  },
  {
   "cell_type": "code",
   "execution_count": null,
   "id": "d52adad5",
   "metadata": {},
   "outputs": [],
   "source": [
    "resolution = (128,128)\n",
    "#X_chest,y_chest = convert_toarray(\"./datasets/chest_xray/imgs\",[\"virus\",\"bacteria\"],\"normal\",resolution)"
   ]
  },
  {
   "cell_type": "code",
   "execution_count": null,
   "id": "93d5bf97",
   "metadata": {},
   "outputs": [],
   "source": [
    "#for i,array in enumerate(np.array_split(X_chest,5)):\n",
    "    #np.save(f\"datasets/chest_xray/imgs_array/X_chest_{i}\",array)\n",
    "#np.save(\"datasets/chest_xray/imgs_array/y_chest\",y_chest)"
   ]
  },
  {
   "cell_type": "code",
   "execution_count": null,
   "id": "89694575",
   "metadata": {},
   "outputs": [],
   "source": [
    "X_chest = []\n",
    "for file in sorted(Path(\"datasets/chest_xray/imgs_array/X_chest/\").glob(\"*\")):\n",
    "    X_chest.append(np.load(str(file)))\n",
    "X_chest = np.vstack(X_chest)\n",
    "y_chest = np.load(\"datasets/chest_xray/imgs_array/y_chest.npy\")"
   ]
  },
  {
   "cell_type": "code",
   "execution_count": null,
   "id": "2b71c43d",
   "metadata": {},
   "outputs": [],
   "source": [
    "X_chest.shape"
   ]
  },
  {
   "cell_type": "code",
   "execution_count": null,
   "id": "f2ffc5f6",
   "metadata": {},
   "outputs": [],
   "source": [
    "plt.imshow(X_chest[4000].reshape(resolution))\n",
    "plt.axis(\"off\")\n",
    "plt.show()"
   ]
  },
  {
   "cell_type": "code",
   "execution_count": null,
   "id": "d0c8cded",
   "metadata": {},
   "outputs": [],
   "source": [
    "X_chest_train,X_chest_test,y_chest_train,y_chest_test =train_test_split(X_chest,y_chest,test_size=0.2,\n",
    "                                  random_state=42,\n",
    "                                  stratify=y_chest)"
   ]
  },
  {
   "cell_type": "code",
   "execution_count": null,
   "id": "a7326d27",
   "metadata": {},
   "outputs": [],
   "source": [
    "#lr_clf = LogisticRegression(max_iter=1000,random_state=42)\n",
    "#lr_clf.fit(X_chest_train,y_chest_train)"
   ]
  },
  {
   "cell_type": "code",
   "execution_count": null,
   "id": "9fa0b104",
   "metadata": {},
   "outputs": [],
   "source": [
    "#joblib.dump(lr_clf,\"Logistic_Regression.joblib\")"
   ]
  },
  {
   "cell_type": "code",
   "execution_count": null,
   "id": "d0921870",
   "metadata": {},
   "outputs": [],
   "source": [
    "lr_clf = joblib.load(\"Logistic_Regression.joblib\")"
   ]
  },
  {
   "cell_type": "code",
   "execution_count": null,
   "id": "80117438",
   "metadata": {},
   "outputs": [],
   "source": [
    "#y_chest_pred = cross_val_predict(lr_clf,X_chest_train,y_chest_train,cv=3)\n",
    "#np.save(\"y_chest_pred\",y_chest_pred)"
   ]
  },
  {
   "cell_type": "code",
   "execution_count": null,
   "id": "6cfa3d98",
   "metadata": {},
   "outputs": [],
   "source": [
    "y_chest_pred = np.load(\"y_chest_pred.npy\")"
   ]
  },
  {
   "cell_type": "code",
   "execution_count": null,
   "id": "879d03fe",
   "metadata": {},
   "outputs": [],
   "source": [
    "cm_chest = confusion_matrix(y_chest_train,y_chest_pred)"
   ]
  },
  {
   "cell_type": "code",
   "execution_count": null,
   "id": "fb0f815f",
   "metadata": {},
   "outputs": [],
   "source": [
    "cm_chest"
   ]
  },
  {
   "cell_type": "code",
   "execution_count": null,
   "id": "be4f7ac2",
   "metadata": {},
   "outputs": [],
   "source": [
    "display(precision_score(y_chest_train,y_chest_pred,average=None))\n",
    "display(precision_score(y_chest_train,y_chest_pred,average=\"macro\"))\n",
    "display(precision_score(y_chest_train,y_chest_pred,average=\"micro\"))\n",
    "display(precision_score(y_chest_train,y_chest_pred,average=\"weighted\"))"
   ]
  },
  {
   "cell_type": "code",
   "execution_count": null,
   "id": "5d581b79",
   "metadata": {},
   "outputs": [],
   "source": [
    "display(recall_score(y_chest_train,y_chest_pred,average=None))\n",
    "display(recall_score(y_chest_train,y_chest_pred,average=\"macro\"))\n",
    "display(recall_score(y_chest_train,y_chest_pred,average=\"micro\"))\n",
    "display(recall_score(y_chest_train,y_chest_pred,average=\"weighted\"))"
   ]
  },
  {
   "cell_type": "code",
   "execution_count": null,
   "id": "9bf0a2c6",
   "metadata": {},
   "outputs": [],
   "source": [
    "display(f1_score(y_chest_train,y_chest_pred,average=None))\n",
    "display(f1_score(y_chest_train,y_chest_pred,average=\"macro\"))\n",
    "display(f1_score(y_chest_train,y_chest_pred,average=\"micro\"))\n",
    "display(f1_score(y_chest_train,y_chest_pred,average=\"weighted\"))"
   ]
  },
  {
   "cell_type": "markdown",
   "id": "82912f99",
   "metadata": {},
   "source": [
    "## Problema de Visão Computacional (Deep Learning)\n",
    "\n",
    "Objetivo: Treinar rede neural que classifique os tipos de tumores e segmente na imagem o local em que ele aparece\n",
    "\n",
    "## Problema de Processamento de Linguagem Natural"
   ]
  }
 ],
 "metadata": {
  "kernelspec": {
   "display_name": "ml",
   "language": "python",
   "name": "python3"
  },
  "language_info": {
   "name": "python",
   "version": "3.11.10"
  }
 },
 "nbformat": 4,
 "nbformat_minor": 5
}
